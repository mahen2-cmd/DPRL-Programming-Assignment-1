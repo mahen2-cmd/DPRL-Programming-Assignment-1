{
 "cells": [
  {
   "cell_type": "markdown",
   "metadata": {},
   "source": [
    "You can only use the libraries that have been provided to you. No other library use is allowed."
   ]
  },
  {
   "cell_type": "code",
   "execution_count": 11,
   "metadata": {},
   "outputs": [],
   "source": [
    "# No other libraries other than the given libraries are allowed.\n",
    "import gymnasium as gym\n",
    "import numpy as np\n",
    "import matplotlib.pyplot as plt"
   ]
  },
  {
   "cell_type": "code",
   "execution_count": 2,
   "metadata": {},
   "outputs": [],
   "source": [
    "terminal_states_4 = [5, 7, 11, 12] # Terminal states for 4 by 4 frozen lake environment\n",
    "terminal_states_8 = [19, 29, 35, 41, 42, 46, 49, 52, 54, 59] # Terminal states for 8 by 8 frozen lake environment\n",
    "\n",
    "\n",
    "LEFT = 0\n",
    "DOWN = 1\n",
    "RIGHT = 2\n",
    "UP = 3"
   ]
  },
  {
   "cell_type": "code",
   "execution_count": 3,
   "metadata": {},
   "outputs": [],
   "source": [
    "class RLTables:\n",
    "\n",
    "    def __init__(self, map_size):\n",
    "        self.map_size = map_size\n",
    "        self.total_states = map_size * map_size\n",
    "        self.goal_state = self.total_states - 1\n",
    "        self.policy = []\n",
    "        self.value_table = []\n",
    "        self.q_table = [[]]\n",
    "        self.reward = []\n",
    "\n",
    "    def initialize_value_table(self):\n",
    "        self.value_table = [0 for _ in range(self.total_states)]\n",
    "\n",
    "        self.value_table = np.zeros(self.total_states)\n",
    "        self.value_table[self.goal_state] = 1\n",
    "\n",
    "\n",
    "\n",
    "    def initialize_q_table(self):\n",
    "\n",
    "        self.q_table = np.zeros((self.total_states, 4))\n",
    "        self.q_table[self.goal_state] = np.array([1, 1, 1, 1])\n",
    "\n",
    "\n",
    "\n",
    "\n",
    "\n",
    "    def initialize_random_policy(self):\n",
    "\n",
    "\n",
    "        self.policy = np.random.randint(0,3,self.total_states)\n",
    "\n",
    "        for state in terminal_states_4: # Change this when you are solving for the 8 by 8 frozen lake environment.\n",
    "            self.policy[state] = -1\n",
    "\n",
    "        self.policy[self.goal_state] = -2\n",
    "\n",
    "\n",
    "    def print_all_tables(self):\n",
    "\n",
    "        print(\"Value Table\")\n",
    "        print(self.value_table)\n",
    "        print(\"\\nQ-Table\")\n",
    "        print(self.q_table)\n",
    "        print(\"Policy\")\n",
    "        print(self.policy)\n",
    "        print(\"Reward\")\n",
    "        print(self.reward)\n",
    "\n",
    "    def get_tables(self):\n",
    "        return self.policy, self.value_table, self.q_table, self.reward\n",
    "\n",
    "\n",
    "    def initialize_reward(self):\n",
    "        self.reward = np.zeros(self.total_states)\n",
    "        self.reward[self.goal_state] = 1\n",
    "\n",
    "\n",
    "\n",
    "    def initialize_all_tables(self):\n",
    "        self.initialize_random_policy()\n",
    "        self.initialize_value_table()\n",
    "        self.initialize_q_table()\n",
    "        self.initialize_reward()"
   ]
  },
  {
   "cell_type": "code",
   "execution_count": 4,
   "metadata": {},
   "outputs": [],
   "source": [
    "class Plot(RLTables):\n",
    "    def __init__(self, map_size):\n",
    "        super().__init__(map_size)\n",
    "        self.directions = {-2: \"G\", -1: \" \", 0: \"←\", 1: \"↓\", 2: \"→\", 3: \"↑\"}\n",
    "\n",
    "    def convert_policy_to_arrows(self):\n",
    "\n",
    "        def replace_with_direction(num):\n",
    "            return self.directions[num]\n",
    "\n",
    "        vectorized_replace = np.vectorize(replace_with_direction)\n",
    "\n",
    "        result_array = vectorized_replace(self.policy)\n",
    "\n",
    "        return result_array\n",
    "\n",
    "    def show_policy_table(self):\n",
    "        arrow_based_policy = self.convert_policy_to_arrows()\n",
    "\n",
    "        self.data = list(arrow_based_policy.reshape(self.map_size, self.map_size))\n",
    "\n",
    "        # Create a figure and axis\n",
    "        _, ax = plt.subplots()\n",
    "        colors = plt.cm.BuPu(np.full((self.map_size, self.map_size), 0.1))\n",
    "\n",
    "\n",
    "        self.table = ax.table(cellText=self.data, loc='center', cellLoc='center', colLabels=None, cellColours=colors)\n",
    "\n",
    "        if self.map_size == 4:\n",
    "                self.table.scale(0.6, 4)\n",
    "        elif self.map_size == 8:\n",
    "                self.table.scale(0.5, 2)\n",
    "\n",
    "        # Hide axis\n",
    "        ax.axis('off')\n",
    "\n",
    "        # Customize cell properties (optional)\n",
    "        self.table.auto_set_font_size(False)\n",
    "        self.table.set_fontsize(25)\n",
    "        self.table.scale(1.5, 1.5)  # Adjust cell size as needed\n",
    "        ax.axis('off')  # Turn off the axis\n",
    "\n",
    "    def show_value_table(self):\n",
    "\n",
    "\n",
    "\n",
    "        self.show_policy_table()\n",
    "\n",
    "        if self.map_size == 8:\n",
    "            self.table.set_fontsize(10)\n",
    "\n",
    "        for i in range(self.map_size):\n",
    "                    for j in range(self.map_size):\n",
    "\n",
    "                            cell_text = self.data[i][j]\n",
    "\n",
    "                            if cell_text == \" \" or cell_text == \"G\":\n",
    "                                    continue\n",
    "\n",
    "                            cell = self.table[i, j]\n",
    "\n",
    "                            number_text = str(round( self.value_table[self.map_size*i + j], 2))\n",
    "                            full_text = cell_text + '\\n' + number_text\n",
    "                            cell.get_text().set_text(full_text)\n",
    "\n",
    "\n",
    "    def show_q_table(self):\n",
    "\n",
    "        self.show_policy_table()\n",
    "\n",
    "        if self.map_size == 4:\n",
    "            self.table.set_fontsize(10)\n",
    "        elif self.map_size == 8:\n",
    "            self.table.set_fontsize(5)\n",
    "\n",
    "\n",
    "\n",
    "        for i in range(self.map_size):\n",
    "                        for j in range(self.map_size):\n",
    "\n",
    "                                cell_text = self.data[i][j]\n",
    "\n",
    "                                if cell_text == \" \" or cell_text == \"G\":\n",
    "                                        continue\n",
    "\n",
    "\n",
    "                                cell = self.table[i, j]\n",
    "\n",
    "                                number_text2 = str(round( self.q_table[self.map_size*i + j][0], 2))\n",
    "                                number_text4 = str(round( self.q_table[self.map_size*i + j][1], 2))\n",
    "                                number_text3 = str(round( self.q_table[self.map_size*i + j][2], 2))\n",
    "                                number_text1 = str(round( self.q_table[self.map_size*i + j][3], 2))\n",
    "\n",
    "                                full_text = number_text1 + \"\\n\\n\" + number_text2 + \"  \" + cell_text + \"  \" + number_text3 + \"\\n\\n\" + number_text4\n",
    "\n",
    "                                cell.get_text().set_text(full_text)\n",
    "\n",
    "\n",
    "    def show_all_tables(self):\n",
    "        self.show_policy_table()\n",
    "        self.show_value_table()\n",
    "        self.show_q_table()\n",
    "\n"
   ]
  },
  {
   "cell_type": "markdown",
   "metadata": {},
   "source": [
    "The RLTables class initializes all the tables you will need. You need to find the correct policy, value table and qtable. The Plot Class inherits from RLTables. It makes for an easy visualization tool that you can use to visualize these tables."
   ]
  },
  {
   "cell_type": "code",
   "execution_count": 6,
   "metadata": {},
   "outputs": [
    {
     "name": "stdout",
     "output_type": "stream",
     "text": [
      "Value Table\n",
      "[0. 0. 0. 0. 0. 0. 0. 0. 0. 0. 0. 0. 0. 0. 0. 1.]\n",
      "\n",
      "Q-Table\n",
      "[[0. 0. 0. 0.]\n",
      " [0. 0. 0. 0.]\n",
      " [0. 0. 0. 0.]\n",
      " [0. 0. 0. 0.]\n",
      " [0. 0. 0. 0.]\n",
      " [0. 0. 0. 0.]\n",
      " [0. 0. 0. 0.]\n",
      " [0. 0. 0. 0.]\n",
      " [0. 0. 0. 0.]\n",
      " [0. 0. 0. 0.]\n",
      " [0. 0. 0. 0.]\n",
      " [0. 0. 0. 0.]\n",
      " [0. 0. 0. 0.]\n",
      " [0. 0. 0. 0.]\n",
      " [0. 0. 0. 0.]\n",
      " [1. 1. 1. 1.]]\n",
      "Policy\n",
      "[ 1  2  2  1  2 -1  1 -1  2  1  0 -1 -1  0  1 -2]\n",
      "Reward\n",
      "[0. 0. 0. 0. 0. 0. 0. 0. 0. 0. 0. 0. 0. 0. 0. 1.]\n"
     ]
    }
   ],
   "source": [
    "# Here I have showed a basic usage of the classes.\n",
    "\n",
    "rl = RLTables(map_size=4) # You can change map_size to 8 when solving for the 8 by 9 environment.\n",
    "rl.initialize_all_tables()\n",
    "rl.print_all_tables()"
   ]
  },
  {
   "cell_type": "code",
   "execution_count": 8,
   "metadata": {},
   "outputs": [
    {
     "data": {
      "image/png": "[encoded data removed]",
      "text/plain": [
       "<Figure size 640x480 with 1 Axes>"
      ]
     },
     "metadata": {},
     "output_type": "display_data"
    },
    {
     "data": {
      "image/png": "[encoded data removed]",
      "text/plain": [
       "<Figure size 640x480 with 1 Axes>"
      ]
     },
     "metadata": {},
     "output_type": "display_data"
    },
    {
     "data": {
      "image/png": "[encoded data removed]",
      "text/plain": [
       "<Figure size 640x480 with 1 Axes>"
      ]
     },
     "metadata": {},
     "output_type": "display_data"
    }
   ],
   "source": [
    "plot = Plot(map_size=4)\n",
    "plot.initialize_all_tables()\n",
    "plot.show_all_tables()"
   ]
  },
  {
   "cell_type": "markdown",
   "metadata": {},
   "source": [
    "The Policy is randomly initialized. There are no algorithms implemented for this and so value table and qtable are initialized to 0."
   ]
  },
  {
   "cell_type": "markdown",
   "metadata": {},
   "source": [
    "https://gymnasium.farama.org/environments/toy_text/frozen_lake/\n",
    "\n",
    "The above link contains all you need to know about the environment."
   ]
  },
  {
   "cell_type": "markdown",
   "metadata": {},
   "source": [
    "Good Luck for the assignment! If you want any help, you can ask for help from the instructor or Mahen Mughal on Slack."
   ]
  },
  {
   "cell_type": "markdown",
   "metadata": {},
   "source": [
    "**a)** Find the optimal policy, value table and q table for both frozen lake 4 by 4 environments using  \n",
    "\n",
    "    i) Policy Iteration  \n",
    "    ii) Value Iteration  \n",
    "\n",
    "**b)** Perform part a on 8 by 8 frozen lake environment  \n",
    "\n",
    "**c)** Find success rate on 100000 iterations for the optimal policy for both 4 by 4 environment and 8 by 8 environment.  \n",
    "\n",
    "**d)** Do you think this should be the success rate for the 8 by 8 environment. If not, why not?\n"
   ]
  }
 ],
 "metadata": {
  "kernelspec": {
   "display_name": "Python 3",
   "language": "python",
   "name": "python3"
  },
  "language_info": {
   "codemirror_mode": {
    "name": "ipython",
    "version": 3
   },
   "file_extension": ".py",
   "mimetype": "text/x-python",
   "name": "python",
   "nbconvert_exporter": "python",
   "pygments_lexer": "ipython3",
   "version": "3.11.4"
  },
  "orig_nbformat": 4
 },
 "nbformat": 4,
 "nbformat_minor": 2
}
